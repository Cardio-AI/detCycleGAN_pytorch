{
 "cells": [
  {
   "cell_type": "markdown",
   "metadata": {},
   "source": [
    "# Prepare MKR splits"
   ]
  },
  {
   "cell_type": "code",
   "execution_count": 2,
   "metadata": {},
   "outputs": [],
   "source": [
    "# Set up imports\n",
    "import os\n",
    "import cv2\n",
    "import sys\n",
    "import glob\n",
    "import json\n",
    "import random\n",
    "from tqdm import tqdm\n",
    "from natsort import natsorted\n",
    "\n",
    "# Imports from endo utils project\n",
    "sys.path.append(\"../ext/endo_utils/data_utils/\")\n",
    "from io_utils import write_list_to_text_file,\\\n",
    "                                check_and_create_folder, print_elements_of_list\n",
    "from process_utils import get_sub_dirs\n",
    "\n",
    "# ------- Pseudo code ------- #\n",
    "# 1. Initialize paths:\n",
    "# For folds equal to number of surgeries:\n",
    "# Iterate over the surgeries,\n",
    "#   Create fold name \n",
    "#   If surgery number == fold number\n",
    "#   Assign to validation \n",
    "#   Else assign to training \n",
    "#   Write validation and test text files\n",
    "# --------------------------- #"
   ]
  },
  {
   "cell_type": "code",
   "execution_count": null,
   "metadata": {},
   "outputs": [],
   "source": [
    "num_folds = 4\n",
    "dataroot = \"/home/lalith/data/13_adaptor_mkr_dataset/\"\n",
    "splits_root = \"../splits/\"\n",
    "splits_name = \"mkr_dataset\"\n",
    "\n",
    "op_dirs = get_sub_dirs(dataroot)\n",
    "\n",
    "def get_images_in_surgery_folder(surgery_path):\n",
    "    indices = []\n",
    "    videos = get_sub_dirs(surgery_path)\n",
    "    for video in videos:\n",
    "        image_filepaths = natsorted(glob.glob(os.path.join(videos, \"images\", \"*.png\")))\n",
    "\n",
    "        # Prepare text file information\n",
    "        rel_path_name = os.path.join(os.path.basename(surgery_path), os.path.basename(video))  # Folder name\n",
    "        frame_indices = [os.path.basename(os.path.splitext(path)[0]) for path in image_filepaths]\n",
    "        \n",
    "        newline_batch = [' '.join((rel_path_name, frame_index)) for frame_index in frame_indices]\n",
    "        indices += newline_batch\n",
    "    return indices\n",
    "\n",
    "\n",
    "for fold in num_folds:\n",
    "    for i, surgery in enumerate(op_dirs):\n",
    "        train_indices, val_indices = [], []\n",
    "        success = check_and_create_folder(os.path.join(splits_root, splits_name, \"fold_\"+str(fold+1)))  # splits/mkr_dataset/fold_1\n",
    "        for i, session in enumerate(op_dirs):\n",
    "            # If fold then validation else put into training list\n",
    "            if i==fold:\n",
    "                val_indices += get_images_in_surgery_folder(surgery_path=session)\n",
    "            else: train_indices += get_images_in_surgery_folder(surgery_path=session)\n",
    "        f_writepath = os.path.join(splits_root, splits_name, \"fold_{}\", \"{}_files.txt\")\n",
    "        write_list_to_text_file(save_path = f_writepath.format(fold+1, \"train\"), \n",
    "                                text_list=train_indices,\n",
    "                                verbose=False)\n",
    "        write_list_to_text_file(save_path = f_writepath.format(fold+1, \"val\"), \n",
    "                                text_list=val_indices,\n",
    "                                verbose=False)\n",
    "        print(\"Fold {}: Extracted {} training files and {} validation files and wrote them to disk\".format(str(fold+1),\n",
    "                                                                                                           len(train_indices),\n",
    "                                                                                                           len(val_indices)))"
   ]
  }
 ],
 "metadata": {
  "kernelspec": {
   "display_name": "Python [conda env:deeplearning-sandbox]",
   "language": "python",
   "name": "conda-env-deeplearning-sandbox-py"
  },
  "language_info": {
   "codemirror_mode": {
    "name": "ipython",
    "version": 3
   },
   "file_extension": ".py",
   "mimetype": "text/x-python",
   "name": "python",
   "nbconvert_exporter": "python",
   "pygments_lexer": "ipython3",
   "version": "3.7.6"
  }
 },
 "nbformat": 4,
 "nbformat_minor": 4
}
