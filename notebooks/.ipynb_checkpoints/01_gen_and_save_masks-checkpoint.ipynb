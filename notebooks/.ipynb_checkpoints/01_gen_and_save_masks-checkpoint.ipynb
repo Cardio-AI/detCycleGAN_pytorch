{
 "cells": [
  {
   "cell_type": "markdown",
   "metadata": {},
   "source": [
    "# Generate masks and save to disk with different blurs\n",
    "\n",
    "### For each folder in sim and mkr, read the labels, generate the masks"
   ]
  },
  {
   "cell_type": "code",
   "execution_count": 1,
   "metadata": {},
   "outputs": [],
   "source": [
    "# Set up imports\n",
    "import os\n",
    "import cv2\n",
    "import sys\n",
    "import glob\n",
    "import json\n",
    "import random\n",
    "import numpy as np\n",
    "from tqdm import tqdm\n",
    "from PIL import Image\n",
    "from tqdm import tqdm\n",
    "from pathlib import Path\n",
    "from natsort import natsorted\n",
    "\n",
    "import torchvision.transforms as transforms\n",
    "\n",
    "# Imports from endo utils project\n",
    "sys.path.append(\"../ext/endo_utils/data_utils/\")\n",
    "from io_utils import write_list_to_text_file,\\\n",
    "                                check_and_create_folder, print_elements_of_list, json_loader\n",
    "from process_utils import *\n",
    "\n",
    "# Read the label\n",
    "# Get the mask\n",
    "# Get the filename\n",
    "# Write to disk"
   ]
  },
  {
   "cell_type": "markdown",
   "metadata": {},
   "source": [
    "### Get directories"
   ]
  },
  {
   "cell_type": "code",
   "execution_count": 2,
   "metadata": {},
   "outputs": [],
   "source": [
    "dataset_root = \"/home/lalith/data/13_adaptor_mkr_dataset/\"\n",
    "\n",
    "blur = True\n",
    "blur_func = \"gaussian\"\n",
    "spread = 1 # For tanh the spread will be 7"
   ]
  },
  {
   "cell_type": "code",
   "execution_count": null,
   "metadata": {},
   "outputs": [],
   "source": [
    "def get_sub_dirs(path, sort=True, paths=True):\n",
    "    \"\"\" Returns all the sub-directories in the given path as a list\n",
    "    If paths flag is set, returns the whole path, else returns just the names\n",
    "    \"\"\"\n",
    "    sub_things = os.listdir(path) # thing can be a folder or a file\n",
    "    if sort: sub_things = natsorted(sub_things)\n",
    "    sub_paths = [os.path.join(path, thing) for thing in sub_things]\n",
    "    \n",
    "    sub_dir_paths = [sub_path for sub_path in sub_paths if os.path.isdir(sub_path)]  # choose only sub-dirs\n",
    "    sub_dir_names = [os.path.basename(sub_dir_path) for sub_dir_path in sub_dir_paths]\n",
    "    \n",
    "    return sub_dir_paths if paths else sub_dir_names\n",
    "\n",
    "\n",
    "def add_point_to_mask(mask, x_mean, y_mean, func=\"gaussian\", spread=1):\n",
    "    \"\"\"\n",
    "    Adds a gaussian point at (x_mean, y_mean) with variance sigma to mask\n",
    "    :param mask: numpy array of shape (h, w)\n",
    "    :param x_mean: float value denoting center_x of gaussian\n",
    "    :param y_mean: float value denoting center_y of gaussian\n",
    "    :return: numpy array with gaussian values added around x_mean, y_mean\n",
    "    \"\"\"\n",
    "    y = np.linspace(0, mask.shape[0] - 1, mask.shape[0])\n",
    "    x = np.linspace(0, mask.shape[1] - 1, mask.shape[1])\n",
    "    x, y = np.meshgrid(x, y)\n",
    "    \n",
    "    try:\n",
    "        if func == \"tanh\":\n",
    "            drawn_mask = mask + (255 * (1 + (np.tanh( - (np.pi * np.sqrt((x - x_mean) ** 2 + (y - y_mean) ** 2)) / spread ))))\n",
    "        elif func == \"gaussian\":\n",
    "            drawn_mask = mask + (255 * np.exp(-((x - x_mean) ** 2 / (2 * spread ** 2) + (y - y_mean) ** 2 / (2 * spread ** 2))))\n",
    "    except:\n",
    "        print(\"Please specify a valid blur function\")\n",
    "    # Euclidean distance function\n",
    "    drawn_mask[drawn_mask > 255] = 255  # Round off extra values\n",
    "    return drawn_mask\n",
    "\n",
    "\n",
    "def labels_to_mask(labels, blur=True, blur_func=\"gaussian\", spread=1):\n",
    "    mask = np.zeros((labels[\"imageHeight\"], labels[\"imageWidth\"]))\n",
    "    if labels[\"points\"]:\n",
    "    # If no points are found, do nothing, return empty mask\n",
    "        points = [(points[\"x\"], points[\"y\"]) for points in labels[\"points\"]]# Get points as a list of tuples\n",
    "        if blur:\n",
    "            for point in points:\n",
    "                mask = add_point_to_mask(mask=mask,\n",
    "                                         x_mean=point[coordinates[\"x\"]],\n",
    "                                         y_mean=point[coordinates[\"y\"]], func=blur_func, spread=spread)\n",
    "        else:\n",
    "            for point in points:\n",
    "                mask[point[coordinates[\"y\"]], point[coordinates[\"x\"]]] = 1  # point[y,x] in i,j indexing\n",
    "    #return Image.fromarray(np.uint8(mask)).convert('L')  # alb aug needs PIL image\n",
    "    return np.uint8(mask)"
   ]
  },
  {
   "cell_type": "code",
   "execution_count": null,
   "metadata": {},
   "outputs": [],
   "source": [
    "op_dirs = get_sub_dirs(dataset_root)\n",
    "for op in op_dirs: # For a surgery folder path\n",
    "    \n",
    "    videos = get_sub_dirs(op) # Video folder path\n",
    "    for video in videos:\n",
    "        \n",
    "        labels = natsorted(glob.glob(video,\"point_labels\", \"*.json\"))  # get all label files\n",
    "        mask_path = os.path.join(video, \"mask_{}_{}\").format(str(blur_func), str(spread))\n",
    "        succ = check_and_create_folder(mask_path)\n",
    "        \n",
    "        for label_file in tqdm(label_list):\n",
    "            filename = os.path.splitext(Path(label_file).name)[0]\n",
    "            labels = json_loader(label_file) # Get labels from the json file         \n",
    "            mask = labels_to_mask(points, blur=blur_flag, blur_func=blur_func, spread=spread) # Create mask from the labels\n",
    "            cv2.imwrite(os.path.join(mask_path, filename+\".png\"), mask) # Write the mask "
   ]
  },
  {
   "cell_type": "markdown",
   "metadata": {},
   "source": [
    "* End of program"
   ]
  }
 ],
 "metadata": {
  "kernelspec": {
   "display_name": "Python [conda env:deeplearning-sandbox]",
   "language": "python",
   "name": "conda-env-deeplearning-sandbox-py"
  },
  "language_info": {
   "codemirror_mode": {
    "name": "ipython",
    "version": 3
   },
   "file_extension": ".py",
   "mimetype": "text/x-python",
   "name": "python",
   "nbconvert_exporter": "python",
   "pygments_lexer": "ipython3",
   "version": "3.7.6"
  }
 },
 "nbformat": 4,
 "nbformat_minor": 4
}
